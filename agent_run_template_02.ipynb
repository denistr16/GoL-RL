{
 "cells": [
  {
   "cell_type": "code",
   "execution_count": 1,
   "metadata": {
    "collapsed": true
   },
   "outputs": [],
   "source": [
    "import numpy as np\n",
    "import torch\n",
    "import matplotlib.pyplot as plt\n",
    "\n",
    "from IPython.display import clear_output\n",
    "from time import sleep\n",
    "from pylab import rcParams\n",
    "\n",
    "%matplotlib inline\n",
    "%load_ext autoreload\n",
    "%autoreload 2\n",
    "\n",
    "rcParams['figure.figsize'] = 10, 20"
   ]
  },
  {
   "cell_type": "code",
   "execution_count": 2,
   "metadata": {
    "collapsed": true
   },
   "outputs": [],
   "source": [
    "from model.linear_observer_planter import LinearPlanterObserver\n",
    "from env.env_naive_sphere import NaiveSandbox\n",
    "from loss.losses import sum_loss_l1"
   ]
  },
  {
   "cell_type": "code",
   "execution_count": 3,
   "metadata": {
    "collapsed": true
   },
   "outputs": [],
   "source": [
    "grid_size=(100,100)\n",
    "agent_window_size = 10 "
   ]
  },
  {
   "cell_type": "code",
   "execution_count": 4,
   "metadata": {
    "collapsed": true
   },
   "outputs": [],
   "source": [
    "sandbox = NaiveSandbox(grid_size=grid_size)\n",
    "agent = LinearPlanterObserver(grid_size=grid_size, window_size=agent_window_size)\n",
    "optim = torch.optim.Adam(agent.parameters())"
   ]
  },
  {
   "cell_type": "code",
   "execution_count": 7,
   "metadata": {
    "collapsed": true
   },
   "outputs": [],
   "source": [
    "iterations = 10\n",
    "steps_after_action = 10"
   ]
  },
  {
   "cell_type": "code",
   "execution_count": 8,
   "metadata": {
    "collapsed": true
   },
   "outputs": [],
   "source": [
    "list_loss = []"
   ]
  },
  {
   "cell_type": "code",
   "execution_count": 9,
   "metadata": {},
   "outputs": [
    {
     "name": "stdout",
     "output_type": "stream",
     "text": [
      "field after agent inference\n"
     ]
    },
    {
     "data": {
      "image/png": "[encoded data removed]",
      "text/plain": [
       "<Figure size 720x1440 with 1 Axes>"
      ]
     },
     "metadata": {},
     "output_type": "display_data"
    },
    {
     "name": "stdout",
     "output_type": "stream",
     "text": [
      "9 tensor(9947.)\n"
     ]
    }
   ],
   "source": [
    "for i in range(iterations):\n",
    "    memoized_env, perception_field, x0, y0 = agent.forward(torch.tensor(sandbox.get_grid()).float())\n",
    "#     print(perception_field)\n",
    "#     plt.imshow(perception_field.detach().numpy())\n",
    "#     plt.show()\n",
    "    \n",
    "    env_state = sandbox.forward(inserted_block=perception_field.detach(), \n",
    "                                inserted_block_position_x0=x0, \n",
    "                                inserted_block_position_y0=y0, \n",
    "                                n_steps=steps_after_action)\n",
    "    clear_output(wait=True)\n",
    "    print('field after agent inference')\n",
    "    plt.imshow(env_state)\n",
    "    plt.show()\n",
    "\n",
    "    l = sum_loss_l1(memoized_env)\n",
    "    list_loss.append(l.data)\n",
    "    print(i, l.data)\n",
    "    \n",
    "    l.backward()\n",
    "        \n",
    "    optim.step()\n",
    "    optim.zero_grad()"
   ]
  },
  {
   "cell_type": "code",
   "execution_count": null,
   "metadata": {
    "collapsed": true
   },
   "outputs": [],
   "source": []
  },
  {
   "cell_type": "code",
   "execution_count": null,
   "metadata": {
    "collapsed": true
   },
   "outputs": [],
   "source": []
  }
 ],
 "metadata": {
  "kernelspec": {
   "display_name": "Python 3",
   "language": "python",
   "name": "python3"
  },
  "language_info": {
   "codemirror_mode": {
    "name": "ipython",
    "version": 3
   },
   "file_extension": ".py",
   "mimetype": "text/x-python",
   "name": "python",
   "nbconvert_exporter": "python",
   "pygments_lexer": "ipython3",
   "version": "3.6.1"
  }
 },
 "nbformat": 4,
 "nbformat_minor": 2
}
