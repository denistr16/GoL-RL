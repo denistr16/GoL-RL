{
 "cells": [
  {
   "cell_type": "code",
   "execution_count": 1,
   "metadata": {},
   "outputs": [],
   "source": [
    "import numpy as np\n",
    "import torch\n",
    "import matplotlib.pyplot as plt\n",
    "\n",
    "from IPython.display import clear_output\n",
    "from time import sleep\n",
    "from pylab import rcParams\n",
    "\n",
    "%matplotlib inline\n",
    "%load_ext autoreload\n",
    "%autoreload 2\n",
    "\n",
    "rcParams['figure.figsize'] = 10, 20"
   ]
  },
  {
   "cell_type": "code",
   "execution_count": 2,
   "metadata": {},
   "outputs": [],
   "source": [
    "from model.linear_observer_planter import LinearPlanterObserver\n",
    "from env.env_naive_torus import NaiveSandbox\n",
    "from loss.losses import sum_loss_l1\n",
    "from model.a2c import *\n",
    "from reward.rewards import AliveCellsReward"
   ]
  },
  {
   "cell_type": "code",
   "execution_count": 3,
   "metadata": {},
   "outputs": [],
   "source": [
    "def probs_to_cells(probs, env, topk=3):\n",
    "    probs_top_k, idx_top_k = probs.topk(topk)\n",
    "    inserted_block = np.zeros(env.shape)\n",
    "    inserted_block = inserted_block.flatten()\n",
    "    inserted_block[idx_top_k] = 1\n",
    "    return inserted_block.reshape(env.shape)"
   ]
  },
  {
   "cell_type": "code",
   "execution_count": 4,
   "metadata": {},
   "outputs": [],
   "source": [
    "agent = ActorCritic(100, 100)"
   ]
  },
  {
   "cell_type": "code",
   "execution_count": 5,
   "metadata": {},
   "outputs": [],
   "source": [
    "LR = 3e-3\n",
    "N_GAMES = 2000\n",
    "\n",
    "optimizer = optim.Adam(agent.parameters(), lr=LR)"
   ]
  },
  {
   "cell_type": "code",
   "execution_count": 6,
   "metadata": {},
   "outputs": [],
   "source": [
    "# total_loss = agent.reflect(np.random.rand(10, 1000),list(range(10)), list(range(10)), list(range(10)))"
   ]
  },
  {
   "cell_type": "code",
   "execution_count": 7,
   "metadata": {},
   "outputs": [],
   "source": [
    "# optimizer.zero_grad()\n",
    "# total_loss.backward()\n",
    "# nn.utils.clip_grad_norm_(agent.parameters(), 0.5)\n",
    "# optimizer.step()"
   ]
  },
  {
   "cell_type": "code",
   "execution_count": 6,
   "metadata": {},
   "outputs": [],
   "source": [
    "grid_size=(10,10)\n",
    "agent_window_size = 10 "
   ]
  },
  {
   "cell_type": "code",
   "execution_count": 7,
   "metadata": {},
   "outputs": [],
   "source": [
    "sandbox = NaiveSandbox(grid_size=grid_size)"
   ]
  },
  {
   "cell_type": "code",
   "execution_count": 8,
   "metadata": {},
   "outputs": [],
   "source": [
    "list_loss = []\n",
    "# dummy reward_f\n",
    "from reward.rewards import AliveCellsReward\n",
    "reward_f = AliveCellsReward()"
   ]
  },
  {
   "cell_type": "code",
   "execution_count": 9,
   "metadata": {},
   "outputs": [],
   "source": [
    "iterations = 10\n",
    "steps_after_action = 10"
   ]
  },
  {
   "cell_type": "code",
   "execution_count": 15,
   "metadata": {},
   "outputs": [],
   "source": [
    "def render(perception_field, env_state, render_agent=True):\n",
    "    clear_output(wait=True)\n",
    "    if render_agent:\n",
    "        plt.imshow(perception_field)\n",
    "        plt.show()\n",
    "    #print('field after agent inference')\n",
    "    #plt.imshow(env_state['grid'])\n",
    "    #plt.show()"
   ]
  },
  {
   "cell_type": "code",
   "execution_count": 20,
   "metadata": {
    "scrolled": true
   },
   "outputs": [
    {
     "data": {
      "image/png": "[encoded data removed]",
      "text/plain": [
       "<Figure size 432x288 with 1 Axes>"
      ]
     },
     "metadata": {},
     "output_type": "display_data"
    },
    {
     "name": "stdout",
     "output_type": "stream",
     "text": [
      "nan\n"
     ]
    }
   ],
   "source": [
    "x0, y0 = 0, 0\n",
    "steps_after_action = 10\n",
    "N_GAMES = 20\n",
    "N_CELLS = 10\n",
    "state = sandbox.get_grid()\n",
    "from time import sleep\n",
    "\n",
    "for game in range(N_GAMES):\n",
    "    states, actions, rewards, dones = [], [], [], []\n",
    "    for i in range(iterations):\n",
    "        probs = agent.get_action_probs(torch.tensor(sandbox.get_grid()).float().flatten())\n",
    "        perception_field = probs_to_cells(probs.detach(), sandbox.get_grid(), N_CELLS)\n",
    "        env_state = sandbox.forward(inserted_block=perception_field, \n",
    "                                    inserted_block_position_x0=x0, \n",
    "                                    inserted_block_position_y0=y0, \n",
    "                                    n_steps=steps_after_action,\n",
    "                                    reward_fn=reward_f \n",
    "                                   )\n",
    "        next_state, reward, done = env_state['grid'], env_state['reward'], env_state['done']\n",
    "        states.append(state.flatten()); actions.append(perception_field); rewards.append(reward); dones.append(done)\n",
    "        \n",
    "        state = next_state\n",
    "        render(perception_field, env_state, render_agent=True)\n",
    "    total_loss = agent.reflect(states, actions, rewards, dones)\n",
    "    optimizer.zero_grad()\n",
    "    total_loss.backward()\n",
    "    print (total_loss.item())\n",
    "    nn.utils.clip_grad_norm_(agent.parameters(), 0.5)\n",
    "    optimizer.step()"
   ]
  },
  {
   "cell_type": "code",
   "execution_count": null,
   "metadata": {},
   "outputs": [],
   "source": []
  }
 ],
 "metadata": {
  "kernelspec": {
   "display_name": "Python 3",
   "language": "python",
   "name": "python3"
  },
  "language_info": {
   "codemirror_mode": {
    "name": "ipython",
    "version": 3
   },
   "file_extension": ".py",
   "mimetype": "text/x-python",
   "name": "python",
   "nbconvert_exporter": "python",
   "pygments_lexer": "ipython3",
   "version": "3.6.4"
  }
 },
 "nbformat": 4,
 "nbformat_minor": 2
}
