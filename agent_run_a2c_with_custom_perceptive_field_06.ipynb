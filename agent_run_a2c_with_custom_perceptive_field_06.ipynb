{
 "cells": [
  {
   "cell_type": "code",
   "execution_count": 1,
   "metadata": {},
   "outputs": [],
   "source": [
    "import numpy as np\n",
    "import torch\n",
    "import matplotlib.pyplot as plt\n",
    "\n",
    "from IPython.display import clear_output\n",
    "from time import sleep\n",
    "from pylab import rcParams\n",
    "\n",
    "\n",
    "%matplotlib inline\n",
    "%load_ext autoreload\n",
    "%autoreload 2\n",
    "\n",
    "rcParams['figure.figsize'] = 10, 20"
   ]
  },
  {
   "cell_type": "code",
   "execution_count": 2,
   "metadata": {},
   "outputs": [],
   "source": [
    "from games.players.bot import BotPlayer"
   ]
  },
  {
   "cell_type": "code",
   "execution_count": 3,
   "metadata": {},
   "outputs": [],
   "source": [
    "from env.env_2players_naive_torus import NaiveSandbox"
   ]
  },
  {
   "cell_type": "code",
   "execution_count": 4,
   "metadata": {},
   "outputs": [],
   "source": [
    "from loss.losses import sum_loss_l1\n",
    "from model.a2c import ActorCritic"
   ]
  },
  {
   "cell_type": "code",
   "execution_count": 5,
   "metadata": {},
   "outputs": [],
   "source": [
    "def render(perception_field, env_state, render_agent=False):\n",
    "    clear_output(wait=True)\n",
    "    if render_agent:\n",
    "        plt.imshow(perception_field)\n",
    "        plt.show()\n",
    "    #print('field after agent inference')\n",
    "    plt.imshow(env_state['grid'])\n",
    "    plt.show()"
   ]
  },
  {
   "cell_type": "code",
   "execution_count": 6,
   "metadata": {},
   "outputs": [],
   "source": [
    "import torch\n",
    "import torch.optim as optim"
   ]
  },
  {
   "cell_type": "code",
   "execution_count": 7,
   "metadata": {},
   "outputs": [],
   "source": [
    "from reward.rewards import AliveCellsReward, MultipleAgentsCellsReward, MultipleAgentsCellsRewardWithEnemyDiscount\n",
    "reward_fn = MultipleAgentsCellsRewardWithEnemyDiscount()"
   ]
  },
  {
   "cell_type": "code",
   "execution_count": 8,
   "metadata": {},
   "outputs": [],
   "source": [
    "def merge_agents(first_values,second_values):\n",
    "    if all([first_values, second_values]):\n",
    "        return 0\n",
    "    return second_values if first_values == 0 else first_values\n",
    "merge_agents = np.vectorize(merge_agents)\n",
    "\n",
    "def merge_perceptions(old, new):\n",
    "    return new if old == 0 else old\n",
    "merge_perceptions = np.vectorize(merge_perceptions)"
   ]
  },
  {
   "cell_type": "code",
   "execution_count": 9,
   "metadata": {},
   "outputs": [],
   "source": [
    "DEVICE = 'cuda' if torch.cuda.is_available() else 'cpu'\n",
    "\n",
    "def flatten_grid(grid):\n",
    "    return torch.tensor(grid).float().flatten().to(DEVICE)\n",
    "\n",
    "def unsqueeze_grid(grid):\n",
    "    return torch.FloatTensor(grid).unsqueeze(0).unsqueeze(0).to(DEVICE)\n",
    "\n",
    "def unsqueeze_states(states):\n",
    "    return torch.FloatTensor(states).view(-1, GRID, GRID).unsqueeze(1).to(DEVICE)"
   ]
  },
  {
   "cell_type": "code",
   "execution_count": 10,
   "metadata": {},
   "outputs": [],
   "source": [
    "from time import sleep\n",
    "def play_game(iterations, state, render_env=True, fall_asleep=False):\n",
    "    for i in range(iterations):\n",
    "        perception_1, actions_1 = agent_1.step(flatten_grid(sandbox.get_grid()))\n",
    "        perception_2, actions_2 = agent_2.step(flatten_grid(sandbox.get_grid()))\n",
    "        \n",
    "        perception_field = merge_agents(perception_1, perception_2)\n",
    "        perception_field = merge_perceptions(sandbox.get_grid(), perception_field)\n",
    "        \n",
    "        sandbox.insert_block(perception_field, 0, 0)\n",
    "        \n",
    "        reward_signal_weight = 0.1\n",
    "        \n",
    "        for s in range(steps_after_action):\n",
    "            if render_env:\n",
    "                render(perception_1, {'grid':sandbox.get_grid()})\n",
    "            if fall_asleep:\n",
    "                sleep(1.5)\n",
    "            sandbox.step()\n",
    "\n",
    "            rewards = reward_fn(sandbox.get_grid())\n",
    "            env_state = {\"grid\": sandbox.get_grid(), \"rewards\":  rewards, \"done\": sandbox.is_done()}\n",
    "\n",
    "            if render_env:\n",
    "                render(perception_1, env_state)\n",
    "            next_state, reward, done = env_state['grid'], env_state['rewards'], env_state['done']\n",
    "\n",
    "            states.append(state.flatten());dones.append(done);\n",
    "            \n",
    "            intristic_reward = rnd.get_intristic_reward(unsqueeze_grid(state))\n",
    "            \n",
    "            total_reward_1 = intristic_reward.detach() + torch.tensor(reward[0]) * reward_signal_weight\n",
    "            total_reward_2 = intristic_reward.detach() + torch.tensor(reward[1]) * reward_signal_weight\n",
    "            \n",
    "            rewards1.append(total_reward_1)\n",
    "            rewards2.append(total_reward_2)\n",
    "            actions1.append(actions_1) \n",
    "            actions2.append(actions_2)\n",
    "            \n",
    "            reward_signal_weight += 0.1\n",
    "            state = next_state\n",
    "            if fall_asleep: sleep(0.5)\n",
    "        if fall_asleep:\n",
    "            print (\"Agents step NOW\")\n",
    "            sleep(0.5)\n",
    "    print (np.mean(rewards1), np.mean(rewards2))"
   ]
  },
  {
   "cell_type": "code",
   "execution_count": 11,
   "metadata": {},
   "outputs": [],
   "source": [
    "def reflect_agent(agent, optimizer, states, actions, rewards, dones, list_loss):\n",
    "    rnd_optimizer.zero_grad()\n",
    "    optimizer.zero_grad()\n",
    "    \n",
    "    intristic_reward = rnd.get_intristic_reward(unsqueeze_states(states))\n",
    "    \n",
    "    intristic_reward.backward()\n",
    "    rnd_optimizer.step()\n",
    "    \n",
    "    total_loss = agent.reflect(states, actions, rewards, dones)\n",
    "    if np.isnan(total_loss.item()):\n",
    "        return\n",
    "    \n",
    "    total_loss.backward()\n",
    "    \n",
    "    list_loss.append(total_loss.item())\n",
    "    torch.nn.utils.clip_grad_norm_(agent.parameters(), 0.5)\n",
    "    optimizer.step()"
   ]
  },
  {
   "cell_type": "code",
   "execution_count": 12,
   "metadata": {},
   "outputs": [],
   "source": [
    "x0, y0 = 0, 0\n",
    "iterations = 100\n",
    "steps_after_action = 10\n",
    "N_GAMES = 100\n",
    "N_CELLS = 10\n",
    "GRID = 20\n",
    "LR = 0.001\n",
    "\n",
    "grid_size=(GRID,GRID)\n",
    "sandbox = NaiveSandbox(grid_size=grid_size)\n",
    "state = sandbox.get_grid()"
   ]
  },
  {
   "cell_type": "code",
   "execution_count": 13,
   "metadata": {},
   "outputs": [],
   "source": [
    "from reward.curiosity_reward import RNDModel"
   ]
  },
  {
   "cell_type": "code",
   "execution_count": 18,
   "metadata": {},
   "outputs": [],
   "source": [
    "agent_1 = BotPlayer(sandbox, marker=1, max_points_per_step=9, perception_field_size=(4, 4), hard_x_y=(0, 0))\n",
    "agent_2 = BotPlayer(sandbox, marker=2, max_points_per_step=9, perception_field_size=(4, 4))\n",
    "\n",
    "\n",
    "rnd = RNDModel(GRID).to(DEVICE)\n",
    "rnd_optimizer = optim.Adam(rnd.parameters())\n",
    "\n",
    "optimizer_1 = optim.Adam(agent_1.parameters(), lr=LR)\n",
    "optimizer_2 = optim.Adam(agent_2.parameters(), lr=LR)"
   ]
  },
  {
   "cell_type": "code",
   "execution_count": 19,
   "metadata": {},
   "outputs": [],
   "source": [
    "def save(agent, epoch):\n",
    "    torch.save(agent.state_dict(), './snapshots/agent_{}.pth'.format(epoch))"
   ]
  },
  {
   "cell_type": "code",
   "execution_count": null,
   "metadata": {
    "scrolled": true
   },
   "outputs": [
    {
     "data": {
      "image/png": "[encoded data removed]",
      "text/plain": [
       "<Figure size 432x288 with 2 Axes>"
      ]
     },
     "metadata": {},
     "output_type": "display_data"
    }
   ],
   "source": [
    "list_loss1, list_loss2 = [], []\n",
    "reward_list1, reward_list2 = [], []\n",
    "for game in range(N_GAMES):\n",
    "    \n",
    "    grid_size=(GRID,GRID)\n",
    "    sandbox = NaiveSandbox(grid_size=grid_size)\n",
    "    state = sandbox.get_grid()\n",
    "    \n",
    "    states, actions1, actions2, rewards1, rewards2, dones = [], [], [], [], [], []\n",
    "    \n",
    "    play_game(iterations, state, render_env=False)\n",
    "    reflect_agent(agent_1, optimizer_1, states, actions1, rewards1, dones, list_loss1)\n",
    "    reflect_agent(agent_2, optimizer_2, states, actions2, rewards2, dones, list_loss2)\n",
    "    clear_output(wait=True)\n",
    "    \n",
    "    reward_list1.append(np.mean(rewards1))\n",
    "    reward_list2.append(np.mean(rewards2))\n",
    "    \n",
    "    if game % 10 == 0:\n",
    "        save(agent_1, epoch=game)\n",
    "    plt.subplot(2, 1, 1)\n",
    "    plt.plot(list(range(len(list_loss1))), list_loss1)\n",
    "    plt.plot(list(range(len(list_loss2))), list_loss2)\n",
    "    \n",
    "    plt.subplot(2, 1, 2)\n",
    "    plt.plot(list(range(len(reward_list1))), reward_list1)\n",
    "    plt.plot(list(range(len(reward_list2))), reward_list2)\n",
    "    \n",
    "    plt.show()"
   ]
  },
  {
   "cell_type": "code",
   "execution_count": 17,
   "metadata": {},
   "outputs": [
    {
     "data": {
      "image/png": "[encoded data removed]",
      "text/plain": [
       "<Figure size 432x288 with 1 Axes>"
      ]
     },
     "metadata": {},
     "output_type": "display_data"
    },
    {
     "ename": "KeyboardInterrupt",
     "evalue": "",
     "output_type": "error",
     "traceback": [
      "\u001b[0;31m---------------------------------------------------------------------------\u001b[0m",
      "\u001b[0;31mKeyboardInterrupt\u001b[0m                         Traceback (most recent call last)",
      "\u001b[0;32m<ipython-input-17-1f54fd92c1d1>\u001b[0m in \u001b[0;36m<module>\u001b[0;34m()\u001b[0m\n\u001b[1;32m      4\u001b[0m \u001b[0;32mfrom\u001b[0m \u001b[0mtime\u001b[0m \u001b[0;32mimport\u001b[0m \u001b[0msleep\u001b[0m\u001b[0;34m\u001b[0m\u001b[0m\n\u001b[1;32m      5\u001b[0m \u001b[0mstates\u001b[0m\u001b[0;34m,\u001b[0m \u001b[0mactions\u001b[0m\u001b[0;34m,\u001b[0m \u001b[0mrewards\u001b[0m\u001b[0;34m,\u001b[0m \u001b[0mdones\u001b[0m \u001b[0;34m=\u001b[0m \u001b[0;34m[\u001b[0m\u001b[0;34m]\u001b[0m\u001b[0;34m,\u001b[0m \u001b[0;34m[\u001b[0m\u001b[0;34m]\u001b[0m\u001b[0;34m,\u001b[0m \u001b[0;34m[\u001b[0m\u001b[0;34m]\u001b[0m\u001b[0;34m,\u001b[0m \u001b[0;34m[\u001b[0m\u001b[0;34m]\u001b[0m\u001b[0;34m\u001b[0m\u001b[0m\n\u001b[0;32m----> 6\u001b[0;31m \u001b[0mplay_game\u001b[0m\u001b[0;34m(\u001b[0m\u001b[0;36m30\u001b[0m\u001b[0;34m,\u001b[0m \u001b[0mstate\u001b[0m\u001b[0;34m,\u001b[0m \u001b[0mfall_asleep\u001b[0m\u001b[0;34m=\u001b[0m\u001b[0;32mTrue\u001b[0m\u001b[0;34m)\u001b[0m\u001b[0;34m\u001b[0m\u001b[0m\n\u001b[0m",
      "\u001b[0;32m<ipython-input-10-63abf4a612e4>\u001b[0m in \u001b[0;36mplay_game\u001b[0;34m(iterations, state, render_env, fall_asleep)\u001b[0m\n\u001b[1;32m     16\u001b[0m                 \u001b[0mrender\u001b[0m\u001b[0;34m(\u001b[0m\u001b[0mperception_1\u001b[0m\u001b[0;34m,\u001b[0m \u001b[0;34m{\u001b[0m\u001b[0;34m'grid'\u001b[0m\u001b[0;34m:\u001b[0m\u001b[0msandbox\u001b[0m\u001b[0;34m.\u001b[0m\u001b[0mget_grid\u001b[0m\u001b[0;34m(\u001b[0m\u001b[0;34m)\u001b[0m\u001b[0;34m}\u001b[0m\u001b[0;34m)\u001b[0m\u001b[0;34m\u001b[0m\u001b[0m\n\u001b[1;32m     17\u001b[0m             \u001b[0;32mif\u001b[0m \u001b[0mfall_asleep\u001b[0m\u001b[0;34m:\u001b[0m\u001b[0;34m\u001b[0m\u001b[0m\n\u001b[0;32m---> 18\u001b[0;31m                 \u001b[0msleep\u001b[0m\u001b[0;34m(\u001b[0m\u001b[0;36m1.5\u001b[0m\u001b[0;34m)\u001b[0m\u001b[0;34m\u001b[0m\u001b[0m\n\u001b[0m\u001b[1;32m     19\u001b[0m             \u001b[0msandbox\u001b[0m\u001b[0;34m.\u001b[0m\u001b[0mstep\u001b[0m\u001b[0;34m(\u001b[0m\u001b[0;34m)\u001b[0m\u001b[0;34m\u001b[0m\u001b[0m\n\u001b[1;32m     20\u001b[0m \u001b[0;34m\u001b[0m\u001b[0m\n",
      "\u001b[0;31mKeyboardInterrupt\u001b[0m: "
     ]
    }
   ],
   "source": [
    "grid_size=(GRID,GRID)\n",
    "sandbox = NaiveSandbox(grid_size=grid_size)\n",
    "state = sandbox.get_grid()\n",
    "from time import sleep\n",
    "states, actions, rewards, dones = [], [], [], []\n",
    "play_game(30, state, fall_asleep=True)"
   ]
  },
  {
   "cell_type": "code",
   "execution_count": 36,
   "metadata": {},
   "outputs": [],
   "source": [
    "dead_cells, first_player, second_player = np.array([12, 9, 3])"
   ]
  },
  {
   "cell_type": "code",
   "execution_count": 37,
   "metadata": {},
   "outputs": [
    {
     "data": {
      "text/plain": [
       "4.5"
      ]
     },
     "execution_count": 37,
     "metadata": {},
     "output_type": "execute_result"
    }
   ],
   "source": [
    "first_player * (first_player - second_player) / dead_cells"
   ]
  },
  {
   "cell_type": "code",
   "execution_count": 38,
   "metadata": {},
   "outputs": [
    {
     "data": {
      "text/plain": [
       "-1.5"
      ]
     },
     "execution_count": 38,
     "metadata": {},
     "output_type": "execute_result"
    }
   ],
   "source": [
    "second_player * (second_player - first_player) / dead_cells"
   ]
  },
  {
   "cell_type": "code",
   "execution_count": null,
   "metadata": {},
   "outputs": [],
   "source": []
  }
 ],
 "metadata": {
  "kernelspec": {
   "display_name": "Python 3",
   "language": "python",
   "name": "python3"
  },
  "language_info": {
   "codemirror_mode": {
    "name": "ipython",
    "version": 3
   },
   "file_extension": ".py",
   "mimetype": "text/x-python",
   "name": "python",
   "nbconvert_exporter": "python",
   "pygments_lexer": "ipython3",
   "version": "3.6.4"
  }
 },
 "nbformat": 4,
 "nbformat_minor": 2
}
