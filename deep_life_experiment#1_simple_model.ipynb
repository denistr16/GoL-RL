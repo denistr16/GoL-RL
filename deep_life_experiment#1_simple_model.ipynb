{
 "cells": [
  {
   "cell_type": "code",
   "execution_count": 1,
   "metadata": {
    "ExecuteTime": {
     "end_time": "2019-01-25T12:26:23.731007Z",
     "start_time": "2019-01-25T12:26:23.029843Z"
    }
   },
   "outputs": [],
   "source": [
    "import numpy as np\n",
    "import torch\n",
    "import matplotlib.pyplot as plt\n",
    "%matplotlib inline\n",
    "%load_ext autoreload\n",
    "%autoreload 2"
   ]
  },
  {
   "cell_type": "code",
   "execution_count": 4,
   "metadata": {},
   "outputs": [],
   "source": [
    "from model.random_agents import ObserverAndPlanter, RandomObserever, RandomPlanter"
   ]
  },
  {
   "cell_type": "code",
   "execution_count": 3,
   "metadata": {},
   "outputs": [],
   "source": [
    "import torch \n",
    "import numpy as np\n",
    "from envs import env"
   ]
  },
  {
   "cell_type": "code",
   "execution_count": 8,
   "metadata": {},
   "outputs": [
    {
     "data": {
      "text/plain": [
       "100"
      ]
     },
     "execution_count": 8,
     "metadata": {},
     "output_type": "execute_result"
    }
   ],
   "source": [
    "torch.nn.Parameter(torch.ones(100, 100)).shape[0]"
   ]
  },
  {
   "cell_type": "code",
   "execution_count": 34,
   "metadata": {},
   "outputs": [],
   "source": [
    "class MemoryAgentModel(torch.nn.Module):\n",
    "    def __init__(self, grid_size=100, window_size=10):\n",
    "        super().__init__()\n",
    "        self.grid_size = grid_size\n",
    "        self.window_size = window_size\n",
    "        \n",
    "        self.memoized_env = torch.nn.Parameter(torch.ones(grid_size, grid_size), requires_grad=False)\n",
    "        self.planter = RandomPlanter(\"Sam\",window_size)\n",
    "        self.observer = RandomObserever(\"Mike\", grid_size, window_size)\n",
    "        \n",
    "    def forward(self, env):\n",
    "        \n",
    "        x, y = self.observer.forward(env)\n",
    "        \n",
    "        x0, x1, y0, y1 = [x.detach().int(),x.detach().int()+self.window_size,\n",
    "                          y.detach().int(),y.detach().int()+self.window_size]\n",
    "        \n",
    "        perception_field = self.planter.forward(env[x0:x1, y0:y1])\n",
    "        memoized_env = env * self.memoized_env\n",
    "        memoized_env[x0:x1, y0:y1] = perception_field\n",
    "        return memoized_env, perception_field, x0, y0"
   ]
  },
  {
   "cell_type": "code",
   "execution_count": 50,
   "metadata": {},
   "outputs": [
    {
     "data": {
      "image/png": "[encoded data removed]",
      "text/plain": [
       "<Figure size 432x288 with 1 Axes>"
      ]
     },
     "metadata": {},
     "output_type": "display_data"
    }
   ],
   "source": [
    "from IPython.display import clear_output\n",
    "from time import sleep\n",
    "\n",
    "sandbox = env.Env(grid_size=(100,100))\n",
    "agent = MemoryAgentModel(100, 100)\n",
    "optim = torch.optim.Adam(agent.parameters())\n",
    "\n",
    "loss = torch.nn.L1Loss()\n",
    "def loss_fn(env):\n",
    "    return loss((env.shape[0]*env.shape[1]), env.sum())\n",
    "\n",
    "\n",
    "target = torch.ones(10, 10)\n",
    "for i in range(10):\n",
    "    memoized_env, perception_field, x0, y0 = agent.forward(torch.tensor(sandbox.grid).float())    \n",
    "    env_state = sandbox.step(perception_field=perception_field.detach(), \n",
    "                         field_position_x=x0, \n",
    "                         field_position_y=y0, n_steps=10)\n",
    "    sandbox.grid_update(10)\n",
    "    if i % 10 == 0:\n",
    "        l = loss_fn(memoized_env)\n",
    "        l.backward()\n",
    "    \n",
    "        optim.step()\n",
    "        optim.zero_grad()\n",
    "        \n",
    "    clear_output(wait=True)\n",
    "    \n",
    "    plt.imshow(sandbox.grid)\n",
    "    plt.show()"
   ]
  },
  {
   "cell_type": "code",
   "execution_count": null,
   "metadata": {},
   "outputs": [],
   "source": []
  },
  {
   "cell_type": "code",
   "execution_count": null,
   "metadata": {},
   "outputs": [],
   "source": []
  }
 ],
 "metadata": {
  "hide_input": false,
  "kernelspec": {
   "display_name": "Python 3",
   "language": "python",
   "name": "python3"
  },
  "language_info": {
   "codemirror_mode": {
    "name": "ipython",
    "version": 3
   },
   "file_extension": ".py",
   "mimetype": "text/x-python",
   "name": "python",
   "nbconvert_exporter": "python",
   "pygments_lexer": "ipython3",
   "version": "3.6.4"
  }
 },
 "nbformat": 4,
 "nbformat_minor": 2
}
