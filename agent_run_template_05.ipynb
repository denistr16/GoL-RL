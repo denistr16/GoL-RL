{
 "cells": [
  {
   "cell_type": "code",
   "execution_count": 1,
   "metadata": {},
   "outputs": [],
   "source": [
    "import numpy as np\n",
    "import torch\n",
    "import matplotlib.pyplot as plt\n",
    "\n",
    "from IPython.display import clear_output\n",
    "from time import sleep\n",
    "from pylab import rcParams\n",
    "\n",
    "%matplotlib inline\n",
    "%load_ext autoreload\n",
    "%autoreload 2\n",
    "\n",
    "rcParams['figure.figsize'] = 10, 20"
   ]
  },
  {
   "cell_type": "code",
   "execution_count": 2,
   "metadata": {},
   "outputs": [],
   "source": [
    "from env.env_2players_naive_torus import NaiveSandbox"
   ]
  },
  {
   "cell_type": "code",
   "execution_count": 3,
   "metadata": {},
   "outputs": [],
   "source": [
    "from loss.losses import sum_loss_l1\n",
    "from model.a2c import *"
   ]
  },
  {
   "cell_type": "code",
   "execution_count": 4,
   "metadata": {},
   "outputs": [],
   "source": [
    "def probs_to_cells(probs, env, topk=3, player=1):\n",
    "    probs_top_k, idx_top_k = probs.topk(topk)\n",
    "    inserted_block = np.zeros(env.shape)\n",
    "    inserted_block = inserted_block.flatten()\n",
    "    inserted_block[idx_top_k] = player\n",
    "    return inserted_block.reshape(env.shape)"
   ]
  },
  {
   "cell_type": "code",
   "execution_count": 5,
   "metadata": {},
   "outputs": [],
   "source": [
    "def render(perception_field, env_state, render_agent=False):\n",
    "    clear_output(wait=True)\n",
    "    if render_agent:\n",
    "        plt.imshow(perception_field)\n",
    "        plt.show()\n",
    "    #print('field after agent inference')\n",
    "    plt.imshow(env_state['grid'])\n",
    "    plt.show()"
   ]
  },
  {
   "cell_type": "code",
   "execution_count": 6,
   "metadata": {},
   "outputs": [],
   "source": [
    "import torch\n",
    "import torch.optim as optim"
   ]
  },
  {
   "cell_type": "code",
   "execution_count": 7,
   "metadata": {},
   "outputs": [],
   "source": [
    "from reward.rewards import AliveCellsReward, MultipleAgentsCellsReward\n",
    "reward_fn = MultipleAgentsCellsReward()"
   ]
  },
  {
   "cell_type": "code",
   "execution_count": 8,
   "metadata": {},
   "outputs": [],
   "source": [
    "def merge(old, new):\n",
    "    if old == 0:\n",
    "        return new\n",
    "    return old\n",
    "merge_perceptions = np.vectorize(merge)"
   ]
  },
  {
   "cell_type": "code",
   "execution_count": 9,
   "metadata": {},
   "outputs": [],
   "source": [
    "def merge_agents(first_probs, first_values, second_probs, second_values):\n",
    "    probs = [first_probs, second_probs]\n",
    "    if first_values != second_values:\n",
    "        if first_values == 0:\n",
    "            return second_values\n",
    "        if second_values == 0:\n",
    "            return first_values\n",
    "        #return probs.index(max(probs)) + 1\n",
    "        return 0\n",
    "    return first_values\n",
    "merge_agents = np.vectorize(merge_agents)"
   ]
  },
  {
   "cell_type": "code",
   "execution_count": 28,
   "metadata": {},
   "outputs": [],
   "source": [
    "DEVICE = 'cuda' if torch.cuda.is_available() else 'cpu'\n",
    "\n",
    "def flatten_grid(grid):\n",
    "    return torch.tensor(grid).float().flatten().to(DEVICE)\n",
    "\n",
    "def unsqueeze_grid(grid):\n",
    "    return torch.FloatTensor(next_state).unsqueeze(0).unsqueeze(0).to(DEVICE)\n",
    "\n",
    "def unsqueeze_states(states):\n",
    "    return torch.FloatTensor(states).view(-1, 10, 10).unsqueeze(1).to(DEVICE)"
   ]
  },
  {
   "cell_type": "code",
   "execution_count": 12,
   "metadata": {},
   "outputs": [],
   "source": [
    "def step_agent(agent, agent_id=1):\n",
    "    probs = agent.get_action_probs(flatten_grid(sandbox.get_grid())\n",
    "    perception_field = probs_to_cells(probs.detach(), sandbox.get_grid(), N_CELLS, player=agent_id)\n",
    "    return perception_field, probs.view(sandbox.get_grid().shape).detach()"
   ]
  },
  {
   "cell_type": "code",
   "execution_count": 13,
   "metadata": {},
   "outputs": [],
   "source": [
    "from time import sleep\n",
    "def play_game(iterations, state, render_env=True, fall_asleep=False):\n",
    "    for i in range(iterations):\n",
    "        perception_1, probs_1 = step_agent(agent_1, 1)\n",
    "        perception_2, probs_2 = step_agent(agent_2, 2)\n",
    "        \n",
    "        perception_field = merge_agents(probs_1, perception_1, probs_2, perception_2)\n",
    "        perception_field = merge_perceptions(sandbox.get_grid(), perception_field)\n",
    "        \n",
    "        sandbox.insert_block(perception_field, 0, 0)\n",
    "        for s in range(steps_after_action):\n",
    "            if render_env:\n",
    "                render(perception_1, {'grid':sandbox.get_grid()})\n",
    "            if fall_asleep:\n",
    "                sleep(1.5)\n",
    "            sandbox.step()\n",
    "\n",
    "            rewards = reward_fn(sandbox.get_grid())\n",
    "            env_state = {\"grid\": sandbox.get_grid(), \"rewards\":  rewards, \"done\": sandbox.is_done()}\n",
    "\n",
    "            if render_env:\n",
    "                render(perception_1, env_state)\n",
    "            next_state, reward, done = env_state['grid'], env_state['rewards'], env_state['done']\n",
    "\n",
    "            states.append(state.flatten());dones.append(done);\n",
    "            \n",
    "            intristic_reward = rnd.get_intristic_reward(unsqueeze_grid(state))\n",
    "            #intristic_reward.backward()\n",
    "            rewards1.append(intristic_reward.detach())\n",
    "            rewards2.append(intristic_reward.detach())\n",
    "            actions1.append(perception_1) \n",
    "            actions2.append(perception_2)\n",
    "            \n",
    "\n",
    "            state = next_state\n",
    "            if fall_asleep: sleep(1)\n",
    "        if fall_asleep:\n",
    "            print (\"Agents step NOW\")\n",
    "            sleep(3)\n",
    "    print (np.mean(rewards1), np.mean(rewards2))"
   ]
  },
  {
   "cell_type": "code",
   "execution_count": 14,
   "metadata": {},
   "outputs": [],
   "source": [
    "def reflect_agent(agent, optimizer, states, actions, rewards, dones, list_loss):\n",
    "    \n",
    "    intristic_reward = rnd.get_intristic_reward(unsqueeze_states(states))\n",
    "    intristic_reward.backward()\n",
    "    \n",
    "    total_loss = agent.reflect(states, actions, rewards, dones)\n",
    "    if np.isnan(total_loss.item()):\n",
    "        return\n",
    "    optimizer.zero_grad()\n",
    "    total_loss.backward()\n",
    "    \n",
    "    list_loss.append(total_loss.item())\n",
    "    torch.nn.utils.clip_grad_norm_(agent.parameters(), 0.5)\n",
    "    optimizer.step()"
   ]
  },
  {
   "cell_type": "code",
   "execution_count": 20,
   "metadata": {},
   "outputs": [],
   "source": [
    "x0, y0 = 0, 0\n",
    "iterations = 100\n",
    "steps_after_action = 10\n",
    "N_GAMES = 100\n",
    "N_CELLS = 5\n",
    "GRID = 10\n",
    "LR = 0.001\n",
    "\n",
    "grid_size=(GRID,GRID)\n",
    "sandbox = NaiveSandbox(grid_size=grid_size)\n",
    "state = sandbox.get_grid()"
   ]
  },
  {
   "cell_type": "code",
   "execution_count": 21,
   "metadata": {},
   "outputs": [],
   "source": [
    "from reward.curiosity_reward import RNDModel"
   ]
  },
  {
   "cell_type": "code",
   "execution_count": 22,
   "metadata": {},
   "outputs": [],
   "source": []
  },
  {
   "cell_type": "code",
   "execution_count": 23,
   "metadata": {},
   "outputs": [],
   "source": [
    "agent_1 = ActorCritic(GRID*GRID, GRID*GRID).to(DEVICE)\n",
    "agent_2 = ActorCritic(GRID*GRID, GRID*GRID).to(DEVICE)\n",
    "\n",
    "rnd = RNDModel(1, 1).to(DEVICE)\n",
    "\n",
    "optimizer_1 = optim.Adam(agent_1.parameters(), lr=LR)\n",
    "optimizer_2 = optim.Adam(agent_2.parameters(), lr=LR)"
   ]
  },
  {
   "cell_type": "code",
   "execution_count": 24,
   "metadata": {
    "scrolled": true
   },
   "outputs": [
    {
     "data": {
      "image/png": "[encoded data removed]",
      "text/plain": [
       "<Figure size 432x288 with 2 Axes>"
      ]
     },
     "metadata": {},
     "output_type": "display_data"
    }
   ],
   "source": [
    "list_loss1, list_loss2 = [], []\n",
    "reward_list1, reward_list2 = [], []\n",
    "for game in range(N_GAMES):\n",
    "    states, actions1, actions2, rewards1, rewards2, dones = [], [], [], [], [], []\n",
    "    \n",
    "    play_game(iterations, state, render_env=False)\n",
    "    reflect_agent(agent_1, optimizer_1, states, actions1, rewards1, dones, list_loss1)\n",
    "    reflect_agent(agent_2, optimizer_2, states, actions2, rewards2, dones, list_loss2)\n",
    "    clear_output(wait=True)\n",
    "    \n",
    "    reward_list1.append(np.mean(rewards1))\n",
    "    reward_list2.append(np.mean(rewards2))\n",
    "    \n",
    "    \n",
    "    plt.subplot(2, 1, 1)\n",
    "    plt.plot(list(range(len(list_loss1))), list_loss1)\n",
    "    plt.plot(list(range(len(list_loss2))), list_loss2)\n",
    "    \n",
    "    plt.subplot(2, 1, 2)\n",
    "    plt.plot(list(range(len(reward_list1))), reward_list1)\n",
    "    plt.plot(list(range(len(reward_list2))), reward_list2)\n",
    "    \n",
    "    plt.show()"
   ]
  },
  {
   "cell_type": "code",
   "execution_count": 31,
   "metadata": {},
   "outputs": [
    {
     "data": {
      "image/png": "[encoded data removed]",
      "text/plain": [
       "<Figure size 432x288 with 1 Axes>"
      ]
     },
     "metadata": {},
     "output_type": "display_data"
    },
    {
     "name": "stdout",
     "output_type": "stream",
     "text": [
      "Agents step NOW\n",
      "0.19029476 0.19029476\n"
     ]
    }
   ],
   "source": [
    "grid_size=(GRID,GRID)\n",
    "sandbox = NaiveSandbox(grid_size=grid_size)\n",
    "state = sandbox.get_grid()\n",
    "from time import sleep\n",
    "steps_after_action = 10\n",
    "states, actions, rewards, dones = [], [], [], []\n",
    "play_game(30, state, fall_asleep=True)"
   ]
  },
  {
   "cell_type": "code",
   "execution_count": null,
   "metadata": {},
   "outputs": [],
   "source": []
  }
 ],
 "metadata": {
  "kernelspec": {
   "display_name": "Python 3",
   "language": "python",
   "name": "python3"
  },
  "language_info": {
   "codemirror_mode": {
    "name": "ipython",
    "version": 3
   },
   "file_extension": ".py",
   "mimetype": "text/x-python",
   "name": "python",
   "nbconvert_exporter": "python",
   "pygments_lexer": "ipython3",
   "version": "3.6.4"
  }
 },
 "nbformat": 4,
 "nbformat_minor": 2
}
